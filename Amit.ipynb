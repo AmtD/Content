{
  "nbformat": 4,
  "nbformat_minor": 0,
  "metadata": {
    "colab": {
      "name": "Amit.ipynb",
      "provenance": [],
      "authorship_tag": "ABX9TyNWj8qDx5U6mjFzneofZVde",
      "include_colab_link": true
    },
    "kernelspec": {
      "name": "python3",
      "display_name": "Python 3"
    },
    "language_info": {
      "name": "python"
    }
  },
  "cells": [
    {
      "cell_type": "markdown",
      "metadata": {
        "id": "view-in-github",
        "colab_type": "text"
      },
      "source": [
        "<a href=\"https://colab.research.google.com/github/AmtD/Content/blob/master/Amit.ipynb\" target=\"_parent\"><img src=\"https://colab.research.google.com/assets/colab-badge.svg\" alt=\"Open In Colab\"/></a>"
      ]
    },
    {
      "cell_type": "code",
      "execution_count": null,
      "metadata": {
        "colab": {
          "base_uri": "https://localhost:8080/"
        },
        "id": "FcRyvdXtls3n",
        "outputId": "1594389a-c5cb-4063-dcf9-a2c3cc770b83"
      },
      "outputs": [
        {
          "output_type": "stream",
          "name": "stdout",
          "text": [
            "Studyopedia sample Python program....\n"
          ]
        }
      ],
      "source": [
        "print(\"Studyopedia sample Python program....\")"
      ]
    },
    {
      "cell_type": "markdown",
      "source": [
        "Sample program to sum two numbers in Python\n"
      ],
      "metadata": {
        "id": "oZ5PAAYGnKV8"
      }
    },
    {
      "cell_type": "code",
      "source": [
        "a = 10\n",
        "b = 20\n",
        "c = a + b\n",
        "print(\"Sum = \",c)"
      ],
      "metadata": {
        "colab": {
          "base_uri": "https://localhost:8080/"
        },
        "id": "b_G-snGymWxm",
        "outputId": "8ceb6730-944d-4d39-86b4-302f9d126439"
      },
      "execution_count": null,
      "outputs": [
        {
          "output_type": "stream",
          "name": "stdout",
          "text": [
            "Sum =  30\n"
          ]
        }
      ]
    },
    {
      "cell_type": "markdown",
      "source": [
        ""
      ],
      "metadata": {
        "id": "Q2G0pMV2nUNB"
      }
    }
  ]
}